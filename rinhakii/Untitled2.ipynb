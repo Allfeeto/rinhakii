{
 "cells": [
  {
   "cell_type": "code",
   "execution_count": null,
   "id": "4dd263a5-99a7-451c-951e-b6ea8d1270bc",
   "metadata": {},
   "outputs": [],
   "source": []
  }
 ],
 "metadata": {
  "kernelspec": {
   "display_name": "",
   "name": ""
  },
  "language_info": {
   "name": ""
  }
 },
 "nbformat": 4,
 "nbformat_minor": 5
}
